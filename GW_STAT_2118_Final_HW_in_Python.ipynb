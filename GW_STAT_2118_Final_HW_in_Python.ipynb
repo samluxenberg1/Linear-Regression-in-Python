{
 "cells": [
  {
   "cell_type": "markdown",
   "metadata": {},
   "source": [
    "# Final HW GW STAT 2118 in Python\n",
    "\n",
    "## Purpose\n",
    "\n",
    "The purpose of this Jupyter notebook is to demonstrate how to run regression analysis in Python which does seem to be currently the most popular language for data science in industry (especially in tech). I could see something like this being used in a programming-heavy course on regression (or perhaps an undergraduate intro to data science course). \n",
    "\n",
    "## The outline of this notebook performs the same regression analysis in 3 different ways. \n",
    "\n",
    "1. The first is with the Python package __numpy__ for scientific computing. This can be used for all manipulations with matrices, linear algebra computations, among others. The functions are similar to how you would perform regression in R physically showing all the matrix manipulations. It has the advantage over SAS in that it allows the students to see what's happening under the hood in terms of matrix manipulations. In my experience as a teaching assistant for the undergraduate regression course, several students don't seem to understand that matrix multiplication works the same exact way no matter the dimensions of the matrices. They understand the examples that have 4 or 5 data points, but sometimes when asked about how to do things with 100 data points, they don't quite understand that it's done in the exact same way. \n",
    "\n",
    "2. The second is with the Python package __statsmodels__ for a more packaged rigorous statistical analysis similar to what you'd expect from R. The output from the OLS method in this package is very similar to the output from the R function summary(lm(y~., data=df)). This is probably the most similar functionality you'd get from PROC REG in SAS in that it just spits out everything you need without knowing exactly what Python is doing behind the scenes. \n",
    "\n",
    "3. The third is with the Python package __sci-kit learn (sklearn)__ for machine learning/predictive modeling. This package makes it very easy to implement machine learning models, but it does lack in rigorous statistical analysis. You can get a few validation metrics such as R^2 but not much else."
   ]
  },
  {
   "cell_type": "markdown",
   "metadata": {},
   "source": [
    "One disadvantage with using Python is I haven't found a ready-to-go method for model selection like forward selection, backward elimination, stepwise regression, or subset regression. I've coded myself backward elimination below, which could just be used. Or perhaps in a more programming heavy regression course in the future, it would be a good homework problem. "
   ]
  },
  {
   "cell_type": "code",
   "execution_count": null,
   "metadata": {
    "collapsed": true
   },
   "outputs": [],
   "source": [
    "# Final HW STAT 2118\n",
    "\n",
    "# In Python, we need to import certain packages to do mathematical and data manipulations as well as visualiztion.\n",
    "\n",
    "import numpy as np # for working with matrices and doing linear algebra (think of np as a nickname for numpy)\n",
    "import pandas as pd # for working with data frames (think of pd as a nickname for pandas)\n",
    "import scipy # for working with specific mathematical and statistical functions\n",
    "import sklearn # for working with machine learning models\n",
    "import matplotlib.pyplot as plt # for visualization\n",
    "import statsmodels.api as sm # for doing more rigorous statistical analysis similar to R\n",
    "\n",
    "# for visualizing inside this Jupyter Notebook\n",
    "%matplotlib inline "
   ]
  },
  {
   "cell_type": "code",
   "execution_count": 2,
   "metadata": {
    "collapsed": true
   },
   "outputs": [],
   "source": [
    "# reading in data file as a data frame\n",
    "data = pd.read_csv('C:/Users/Samuel/Documents/GW/Regression Analysis/class - fall 2018.csv') "
   ]
  },
  {
   "cell_type": "code",
   "execution_count": 3,
   "metadata": {},
   "outputs": [
    {
     "data": {
      "text/plain": [
       "ID         int64\n",
       "HW1       object\n",
       "HW2       object\n",
       "HW3       object\n",
       "MT1      float64\n",
       "HW4       object\n",
       "HW5       object\n",
       "HW6       object\n",
       "MT2      float64\n",
       "HW7       object\n",
       "Final    float64\n",
       "dtype: object"
      ]
     },
     "execution_count": 3,
     "metadata": {},
     "output_type": "execute_result"
    }
   ],
   "source": [
    "data.dtypes # look at types of data in the data frame"
   ]
  },
  {
   "cell_type": "code",
   "execution_count": 4,
   "metadata": {},
   "outputs": [
    {
     "data": {
      "text/html": [
       "<div>\n",
       "<style>\n",
       "    .dataframe thead tr:only-child th {\n",
       "        text-align: right;\n",
       "    }\n",
       "\n",
       "    .dataframe thead th {\n",
       "        text-align: left;\n",
       "    }\n",
       "\n",
       "    .dataframe tbody tr th {\n",
       "        vertical-align: top;\n",
       "    }\n",
       "</style>\n",
       "<table border=\"1\" class=\"dataframe\">\n",
       "  <thead>\n",
       "    <tr style=\"text-align: right;\">\n",
       "      <th></th>\n",
       "      <th>ID</th>\n",
       "      <th>HW1</th>\n",
       "      <th>HW2</th>\n",
       "      <th>HW3</th>\n",
       "      <th>MT1</th>\n",
       "      <th>HW4</th>\n",
       "      <th>HW5</th>\n",
       "      <th>HW6</th>\n",
       "      <th>MT2</th>\n",
       "      <th>HW7</th>\n",
       "      <th>Final</th>\n",
       "    </tr>\n",
       "  </thead>\n",
       "  <tbody>\n",
       "    <tr>\n",
       "      <th>0</th>\n",
       "      <td>1</td>\n",
       "      <td>20</td>\n",
       "      <td>8</td>\n",
       "      <td>12</td>\n",
       "      <td>28.00</td>\n",
       "      <td>20</td>\n",
       "      <td>16</td>\n",
       "      <td>18</td>\n",
       "      <td>24.0</td>\n",
       "      <td>20</td>\n",
       "      <td>32.0</td>\n",
       "    </tr>\n",
       "    <tr>\n",
       "      <th>1</th>\n",
       "      <td>2</td>\n",
       "      <td>19</td>\n",
       "      <td>18.5</td>\n",
       "      <td>16.5</td>\n",
       "      <td>37.50</td>\n",
       "      <td>19</td>\n",
       "      <td>19</td>\n",
       "      <td>14.5</td>\n",
       "      <td>36.5</td>\n",
       "      <td>20</td>\n",
       "      <td>40.0</td>\n",
       "    </tr>\n",
       "    <tr>\n",
       "      <th>2</th>\n",
       "      <td>3</td>\n",
       "      <td>16</td>\n",
       "      <td>18</td>\n",
       "      <td>16</td>\n",
       "      <td>24.00</td>\n",
       "      <td>20</td>\n",
       "      <td>18</td>\n",
       "      <td>20</td>\n",
       "      <td>34.0</td>\n",
       "      <td>20</td>\n",
       "      <td>46.0</td>\n",
       "    </tr>\n",
       "    <tr>\n",
       "      <th>3</th>\n",
       "      <td>4</td>\n",
       "      <td>20</td>\n",
       "      <td>18</td>\n",
       "      <td>16.5</td>\n",
       "      <td>36.50</td>\n",
       "      <td>19</td>\n",
       "      <td>16.5</td>\n",
       "      <td>16</td>\n",
       "      <td>37.0</td>\n",
       "      <td>20</td>\n",
       "      <td>33.0</td>\n",
       "    </tr>\n",
       "    <tr>\n",
       "      <th>4</th>\n",
       "      <td>5</td>\n",
       "      <td>20</td>\n",
       "      <td>20</td>\n",
       "      <td>20</td>\n",
       "      <td>40.00</td>\n",
       "      <td>20</td>\n",
       "      <td>20</td>\n",
       "      <td>20</td>\n",
       "      <td>40.0</td>\n",
       "      <td>20</td>\n",
       "      <td>50.0</td>\n",
       "    </tr>\n",
       "    <tr>\n",
       "      <th>5</th>\n",
       "      <td>6</td>\n",
       "      <td>16</td>\n",
       "      <td>20</td>\n",
       "      <td>14</td>\n",
       "      <td>40.00</td>\n",
       "      <td>20</td>\n",
       "      <td>20</td>\n",
       "      <td>20</td>\n",
       "      <td>39.0</td>\n",
       "      <td>20</td>\n",
       "      <td>44.0</td>\n",
       "    </tr>\n",
       "    <tr>\n",
       "      <th>6</th>\n",
       "      <td>7</td>\n",
       "      <td>19</td>\n",
       "      <td>19.25</td>\n",
       "      <td>19</td>\n",
       "      <td>37.25</td>\n",
       "      <td>20</td>\n",
       "      <td>18</td>\n",
       "      <td>19</td>\n",
       "      <td>36.0</td>\n",
       "      <td>20</td>\n",
       "      <td>48.0</td>\n",
       "    </tr>\n",
       "    <tr>\n",
       "      <th>7</th>\n",
       "      <td>8</td>\n",
       "      <td>13.25</td>\n",
       "      <td>14</td>\n",
       "      <td>12</td>\n",
       "      <td>30.00</td>\n",
       "      <td>18</td>\n",
       "      <td>20</td>\n",
       "      <td>14</td>\n",
       "      <td>21.0</td>\n",
       "      <td>18</td>\n",
       "      <td>31.0</td>\n",
       "    </tr>\n",
       "    <tr>\n",
       "      <th>8</th>\n",
       "      <td>9</td>\n",
       "      <td>18</td>\n",
       "      <td>18</td>\n",
       "      <td>15.5</td>\n",
       "      <td>36.75</td>\n",
       "      <td>20</td>\n",
       "      <td>20</td>\n",
       "      <td>12.5</td>\n",
       "      <td>39.0</td>\n",
       "      <td>20</td>\n",
       "      <td>37.0</td>\n",
       "    </tr>\n",
       "    <tr>\n",
       "      <th>9</th>\n",
       "      <td>10</td>\n",
       "      <td>19.75</td>\n",
       "      <td>20</td>\n",
       "      <td>19.5</td>\n",
       "      <td>37.50</td>\n",
       "      <td>19</td>\n",
       "      <td>19.75</td>\n",
       "      <td>19</td>\n",
       "      <td>39.5</td>\n",
       "      <td>20</td>\n",
       "      <td>47.0</td>\n",
       "    </tr>\n",
       "    <tr>\n",
       "      <th>10</th>\n",
       "      <td>11</td>\n",
       "      <td>.</td>\n",
       "      <td>.</td>\n",
       "      <td>.</td>\n",
       "      <td>32.25</td>\n",
       "      <td>19.5</td>\n",
       "      <td>19.5</td>\n",
       "      <td>18.5</td>\n",
       "      <td>36.5</td>\n",
       "      <td>20</td>\n",
       "      <td>50.0</td>\n",
       "    </tr>\n",
       "    <tr>\n",
       "      <th>11</th>\n",
       "      <td>12</td>\n",
       "      <td>15.5</td>\n",
       "      <td>12.5</td>\n",
       "      <td>13</td>\n",
       "      <td>36.25</td>\n",
       "      <td>16.5</td>\n",
       "      <td>18.5</td>\n",
       "      <td>14</td>\n",
       "      <td>31.5</td>\n",
       "      <td>18.5</td>\n",
       "      <td>25.0</td>\n",
       "    </tr>\n",
       "    <tr>\n",
       "      <th>12</th>\n",
       "      <td>13</td>\n",
       "      <td>19</td>\n",
       "      <td>19.5</td>\n",
       "      <td>18</td>\n",
       "      <td>38.25</td>\n",
       "      <td>19.25</td>\n",
       "      <td>19</td>\n",
       "      <td>15</td>\n",
       "      <td>38.0</td>\n",
       "      <td>20</td>\n",
       "      <td>49.0</td>\n",
       "    </tr>\n",
       "    <tr>\n",
       "      <th>13</th>\n",
       "      <td>14</td>\n",
       "      <td>20</td>\n",
       "      <td>20</td>\n",
       "      <td>20</td>\n",
       "      <td>40.00</td>\n",
       "      <td>20</td>\n",
       "      <td>20</td>\n",
       "      <td>20</td>\n",
       "      <td>39.0</td>\n",
       "      <td>20</td>\n",
       "      <td>47.0</td>\n",
       "    </tr>\n",
       "    <tr>\n",
       "      <th>14</th>\n",
       "      <td>15</td>\n",
       "      <td>20</td>\n",
       "      <td>19.5</td>\n",
       "      <td>18.75</td>\n",
       "      <td>38.50</td>\n",
       "      <td>20</td>\n",
       "      <td>20</td>\n",
       "      <td>20</td>\n",
       "      <td>36.0</td>\n",
       "      <td>20</td>\n",
       "      <td>35.0</td>\n",
       "    </tr>\n",
       "  </tbody>\n",
       "</table>\n",
       "</div>"
      ],
      "text/plain": [
       "    ID    HW1    HW2    HW3    MT1    HW4    HW5   HW6   MT2   HW7  Final\n",
       "0    1     20      8     12  28.00     20     16    18  24.0    20   32.0\n",
       "1    2     19   18.5   16.5  37.50     19     19  14.5  36.5    20   40.0\n",
       "2    3     16     18     16  24.00     20     18    20  34.0    20   46.0\n",
       "3    4     20     18   16.5  36.50     19   16.5    16  37.0    20   33.0\n",
       "4    5     20     20     20  40.00     20     20    20  40.0    20   50.0\n",
       "5    6     16     20     14  40.00     20     20    20  39.0    20   44.0\n",
       "6    7     19  19.25     19  37.25     20     18    19  36.0    20   48.0\n",
       "7    8  13.25     14     12  30.00     18     20    14  21.0    18   31.0\n",
       "8    9     18     18   15.5  36.75     20     20  12.5  39.0    20   37.0\n",
       "9   10  19.75     20   19.5  37.50     19  19.75    19  39.5    20   47.0\n",
       "10  11      .      .      .  32.25   19.5   19.5  18.5  36.5    20   50.0\n",
       "11  12   15.5   12.5     13  36.25   16.5   18.5    14  31.5  18.5   25.0\n",
       "12  13     19   19.5     18  38.25  19.25     19    15  38.0    20   49.0\n",
       "13  14     20     20     20  40.00     20     20    20  39.0    20   47.0\n",
       "14  15     20   19.5  18.75  38.50     20     20    20  36.0    20   35.0"
      ]
     },
     "execution_count": 4,
     "metadata": {},
     "output_type": "execute_result"
    }
   ],
   "source": [
    "# Inspect the top of the dataset\n",
    "data.head(15)"
   ]
  },
  {
   "cell_type": "code",
   "execution_count": 5,
   "metadata": {},
   "outputs": [
    {
     "data": {
      "text/plain": [
       "ID       float64\n",
       "HW1      float64\n",
       "HW2      float64\n",
       "HW3      float64\n",
       "MT1      float64\n",
       "HW4      float64\n",
       "HW5      float64\n",
       "HW6      float64\n",
       "MT2      float64\n",
       "HW7      float64\n",
       "Final    float64\n",
       "dtype: object"
      ]
     },
     "execution_count": 5,
     "metadata": {},
     "output_type": "execute_result"
    }
   ],
   "source": [
    "# deal with missing values via imputation or other method\n",
    "df = data.copy() # create copy of original dataset\n",
    "df.replace(to_replace='.', value=0, inplace=True) # replace missing values with 0\n",
    "df = pd.DataFrame(df, dtype=float) # convert all data types to floats\n",
    "df.dtypes"
   ]
  },
  {
   "cell_type": "code",
   "execution_count": 6,
   "metadata": {},
   "outputs": [
    {
     "data": {
      "text/plain": [
       "(118, 11)"
      ]
     },
     "execution_count": 6,
     "metadata": {},
     "output_type": "execute_result"
    }
   ],
   "source": [
    "# deal with missing values via removal - matches what SAS does\n",
    "df_clean = data.copy() # create copy of original dataset\n",
    "df_clean.replace(to_replace='.', value=np.nan, inplace=True) # replace missing values with NaN to remove\n",
    "df_clean.dropna(axis=0, inplace=True) # remove NaNs (axis=0 means it removes rows with missing values, axis=1 would mean columns)\n",
    "df_clean = pd.DataFrame(df_clean, dtype=float) # convert all data types to floats\n",
    "df_clean.shape # look at dimensions of clean data frame"
   ]
  },
  {
   "cell_type": "code",
   "execution_count": 7,
   "metadata": {},
   "outputs": [
    {
     "data": {
      "text/plain": [
       "<matplotlib.text.Text at 0x1f06626ae48>"
      ]
     },
     "execution_count": 7,
     "metadata": {},
     "output_type": "execute_result"
    },
    {
     "data": {
      "image/png": "[encoded data removed]",
      "text/plain": [
       "<matplotlib.figure.Figure at 0x1f065e26f28>"
      ]
     },
     "metadata": {},
     "output_type": "display_data"
    }
   ],
   "source": [
    "plt.figure() # create figure space\n",
    "\n",
    "plt.subplot(121) # set up figure space of dimensions 1 x 2. The final '1' in 121 refers to the position in the 1x2 dimensions\n",
    "plt.hist(df['HW1']) # plot histogram of HW1 variable\n",
    "plt.title('With Missing as Zero')\n",
    "\n",
    "plt.subplot(122) # same figure space with 1x2 dimensions, but now the final '2' refers to the second position in this space\n",
    "plt.hist(df_clean['HW1'])\n",
    "plt.title('With Missing Removed')"
   ]
  },
  {
   "cell_type": "code",
   "execution_count": 8,
   "metadata": {},
   "outputs": [
    {
     "data": {
      "text/plain": [
       "Index(['ID', 'HW1', 'HW2', 'HW3', 'MT1', 'HW4', 'HW5', 'HW6', 'MT2', 'HW7',\n",
       "       'Final'],\n",
       "      dtype='object')"
      ]
     },
     "execution_count": 8,
     "metadata": {},
     "output_type": "execute_result"
    }
   ],
   "source": [
    "# To produce same results as SAS, use data with missing values removed.\n",
    "df_clean.columns # list columns in the dataset"
   ]
  },
  {
   "cell_type": "code",
   "execution_count": 9,
   "metadata": {},
   "outputs": [
    {
     "data": {
      "text/html": [
       "<div>\n",
       "<style>\n",
       "    .dataframe thead tr:only-child th {\n",
       "        text-align: right;\n",
       "    }\n",
       "\n",
       "    .dataframe thead th {\n",
       "        text-align: left;\n",
       "    }\n",
       "\n",
       "    .dataframe tbody tr th {\n",
       "        vertical-align: top;\n",
       "    }\n",
       "</style>\n",
       "<table border=\"1\" class=\"dataframe\">\n",
       "  <thead>\n",
       "    <tr style=\"text-align: right;\">\n",
       "      <th></th>\n",
       "      <th>HW1</th>\n",
       "      <th>HW2</th>\n",
       "      <th>HW3</th>\n",
       "      <th>MT1</th>\n",
       "      <th>HW4</th>\n",
       "      <th>HW5</th>\n",
       "      <th>HW6</th>\n",
       "      <th>MT2</th>\n",
       "      <th>HW7</th>\n",
       "      <th>Final</th>\n",
       "    </tr>\n",
       "  </thead>\n",
       "  <tbody>\n",
       "    <tr>\n",
       "      <th>0</th>\n",
       "      <td>20.0</td>\n",
       "      <td>8.0</td>\n",
       "      <td>12.0</td>\n",
       "      <td>28.0</td>\n",
       "      <td>20.0</td>\n",
       "      <td>16.0</td>\n",
       "      <td>18.0</td>\n",
       "      <td>24.0</td>\n",
       "      <td>20.0</td>\n",
       "      <td>32.0</td>\n",
       "    </tr>\n",
       "    <tr>\n",
       "      <th>1</th>\n",
       "      <td>19.0</td>\n",
       "      <td>18.5</td>\n",
       "      <td>16.5</td>\n",
       "      <td>37.5</td>\n",
       "      <td>19.0</td>\n",
       "      <td>19.0</td>\n",
       "      <td>14.5</td>\n",
       "      <td>36.5</td>\n",
       "      <td>20.0</td>\n",
       "      <td>40.0</td>\n",
       "    </tr>\n",
       "    <tr>\n",
       "      <th>2</th>\n",
       "      <td>16.0</td>\n",
       "      <td>18.0</td>\n",
       "      <td>16.0</td>\n",
       "      <td>24.0</td>\n",
       "      <td>20.0</td>\n",
       "      <td>18.0</td>\n",
       "      <td>20.0</td>\n",
       "      <td>34.0</td>\n",
       "      <td>20.0</td>\n",
       "      <td>46.0</td>\n",
       "    </tr>\n",
       "    <tr>\n",
       "      <th>3</th>\n",
       "      <td>20.0</td>\n",
       "      <td>18.0</td>\n",
       "      <td>16.5</td>\n",
       "      <td>36.5</td>\n",
       "      <td>19.0</td>\n",
       "      <td>16.5</td>\n",
       "      <td>16.0</td>\n",
       "      <td>37.0</td>\n",
       "      <td>20.0</td>\n",
       "      <td>33.0</td>\n",
       "    </tr>\n",
       "    <tr>\n",
       "      <th>4</th>\n",
       "      <td>20.0</td>\n",
       "      <td>20.0</td>\n",
       "      <td>20.0</td>\n",
       "      <td>40.0</td>\n",
       "      <td>20.0</td>\n",
       "      <td>20.0</td>\n",
       "      <td>20.0</td>\n",
       "      <td>40.0</td>\n",
       "      <td>20.0</td>\n",
       "      <td>50.0</td>\n",
       "    </tr>\n",
       "  </tbody>\n",
       "</table>\n",
       "</div>"
      ],
      "text/plain": [
       "    HW1   HW2   HW3   MT1   HW4   HW5   HW6   MT2   HW7  Final\n",
       "0  20.0   8.0  12.0  28.0  20.0  16.0  18.0  24.0  20.0   32.0\n",
       "1  19.0  18.5  16.5  37.5  19.0  19.0  14.5  36.5  20.0   40.0\n",
       "2  16.0  18.0  16.0  24.0  20.0  18.0  20.0  34.0  20.0   46.0\n",
       "3  20.0  18.0  16.5  36.5  19.0  16.5  16.0  37.0  20.0   33.0\n",
       "4  20.0  20.0  20.0  40.0  20.0  20.0  20.0  40.0  20.0   50.0"
      ]
     },
     "execution_count": 9,
     "metadata": {},
     "output_type": "execute_result"
    }
   ],
   "source": [
    "grades = df_clean.iloc[:,1:] # remove ID column\n",
    "grades.head()"
   ]
  },
  {
   "cell_type": "code",
   "execution_count": 10,
   "metadata": {},
   "outputs": [
    {
     "data": {
      "text/plain": [
       "array([[<matplotlib.axes._subplots.AxesSubplot object at 0x000001F0662B5518>,\n",
       "        <matplotlib.axes._subplots.AxesSubplot object at 0x000001F066362A90>,\n",
       "        <matplotlib.axes._subplots.AxesSubplot object at 0x000001F06639AF98>],\n",
       "       [<matplotlib.axes._subplots.AxesSubplot object at 0x000001F0663F6FD0>,\n",
       "        <matplotlib.axes._subplots.AxesSubplot object at 0x000001F06643FF98>,\n",
       "        <matplotlib.axes._subplots.AxesSubplot object at 0x000001F06649E8D0>],\n",
       "       [<matplotlib.axes._subplots.AxesSubplot object at 0x000001F0664EB278>,\n",
       "        <matplotlib.axes._subplots.AxesSubplot object at 0x000001F0665181D0>,\n",
       "        <matplotlib.axes._subplots.AxesSubplot object at 0x000001F066583DD8>]], dtype=object)"
      ]
     },
     "execution_count": 10,
     "metadata": {},
     "output_type": "execute_result"
    },
    {
     "data": {
      "image/png": "[encoded data removed]",
      "text/plain": [
       "<matplotlib.figure.Figure at 0x1f065e26240>"
      ]
     },
     "metadata": {},
     "output_type": "display_data"
    }
   ],
   "source": [
    "# To get a scatterplot matrix - takes a while to run (also hard to read with lots of variables when printing 'inline')\n",
    "from pandas.plotting import scatter_matrix # don't need to import entire pandas.plotting module, can just import part\n",
    "scatter_matrix(grades[['MT1', 'MT2', 'Final']]) # let's just look at 2 predictors and the response variable"
   ]
  },
  {
   "cell_type": "code",
   "execution_count": 11,
   "metadata": {},
   "outputs": [
    {
     "data": {
      "text/html": [
       "<div>\n",
       "<style>\n",
       "    .dataframe thead tr:only-child th {\n",
       "        text-align: right;\n",
       "    }\n",
       "\n",
       "    .dataframe thead th {\n",
       "        text-align: left;\n",
       "    }\n",
       "\n",
       "    .dataframe tbody tr th {\n",
       "        vertical-align: top;\n",
       "    }\n",
       "</style>\n",
       "<table border=\"1\" class=\"dataframe\">\n",
       "  <thead>\n",
       "    <tr style=\"text-align: right;\">\n",
       "      <th></th>\n",
       "      <th>HW1</th>\n",
       "      <th>HW2</th>\n",
       "      <th>HW3</th>\n",
       "      <th>MT1</th>\n",
       "      <th>HW4</th>\n",
       "      <th>HW5</th>\n",
       "      <th>HW6</th>\n",
       "      <th>MT2</th>\n",
       "      <th>HW7</th>\n",
       "      <th>Final</th>\n",
       "    </tr>\n",
       "  </thead>\n",
       "  <tbody>\n",
       "    <tr>\n",
       "      <th>count</th>\n",
       "      <td>118.000000</td>\n",
       "      <td>118.000000</td>\n",
       "      <td>118.000000</td>\n",
       "      <td>118.000000</td>\n",
       "      <td>118.000000</td>\n",
       "      <td>118.000000</td>\n",
       "      <td>118.000000</td>\n",
       "      <td>118.000000</td>\n",
       "      <td>118.000000</td>\n",
       "      <td>118.000000</td>\n",
       "    </tr>\n",
       "    <tr>\n",
       "      <th>mean</th>\n",
       "      <td>18.129237</td>\n",
       "      <td>17.713983</td>\n",
       "      <td>17.283898</td>\n",
       "      <td>35.309322</td>\n",
       "      <td>18.836864</td>\n",
       "      <td>18.875000</td>\n",
       "      <td>16.919492</td>\n",
       "      <td>34.093220</td>\n",
       "      <td>19.224576</td>\n",
       "      <td>40.029661</td>\n",
       "    </tr>\n",
       "    <tr>\n",
       "      <th>std</th>\n",
       "      <td>2.702036</td>\n",
       "      <td>3.609146</td>\n",
       "      <td>3.062894</td>\n",
       "      <td>4.961032</td>\n",
       "      <td>3.302967</td>\n",
       "      <td>2.767089</td>\n",
       "      <td>3.010644</td>\n",
       "      <td>5.698984</td>\n",
       "      <td>1.869226</td>\n",
       "      <td>7.692902</td>\n",
       "    </tr>\n",
       "    <tr>\n",
       "      <th>min</th>\n",
       "      <td>0.000000</td>\n",
       "      <td>0.000000</td>\n",
       "      <td>0.000000</td>\n",
       "      <td>16.000000</td>\n",
       "      <td>0.000000</td>\n",
       "      <td>0.000000</td>\n",
       "      <td>4.250000</td>\n",
       "      <td>11.000000</td>\n",
       "      <td>12.000000</td>\n",
       "      <td>19.000000</td>\n",
       "    </tr>\n",
       "    <tr>\n",
       "      <th>25%</th>\n",
       "      <td>17.500000</td>\n",
       "      <td>17.500000</td>\n",
       "      <td>16.000000</td>\n",
       "      <td>34.062500</td>\n",
       "      <td>19.000000</td>\n",
       "      <td>19.000000</td>\n",
       "      <td>15.062500</td>\n",
       "      <td>31.625000</td>\n",
       "      <td>20.000000</td>\n",
       "      <td>35.000000</td>\n",
       "    </tr>\n",
       "    <tr>\n",
       "      <th>50%</th>\n",
       "      <td>19.000000</td>\n",
       "      <td>19.000000</td>\n",
       "      <td>18.000000</td>\n",
       "      <td>37.000000</td>\n",
       "      <td>20.000000</td>\n",
       "      <td>20.000000</td>\n",
       "      <td>18.000000</td>\n",
       "      <td>36.000000</td>\n",
       "      <td>20.000000</td>\n",
       "      <td>43.000000</td>\n",
       "    </tr>\n",
       "    <tr>\n",
       "      <th>75%</th>\n",
       "      <td>20.000000</td>\n",
       "      <td>20.000000</td>\n",
       "      <td>19.500000</td>\n",
       "      <td>38.250000</td>\n",
       "      <td>20.000000</td>\n",
       "      <td>20.000000</td>\n",
       "      <td>19.187500</td>\n",
       "      <td>38.000000</td>\n",
       "      <td>20.000000</td>\n",
       "      <td>45.375000</td>\n",
       "    </tr>\n",
       "    <tr>\n",
       "      <th>max</th>\n",
       "      <td>20.000000</td>\n",
       "      <td>20.000000</td>\n",
       "      <td>20.000000</td>\n",
       "      <td>40.000000</td>\n",
       "      <td>20.000000</td>\n",
       "      <td>20.000000</td>\n",
       "      <td>20.000000</td>\n",
       "      <td>40.000000</td>\n",
       "      <td>20.000000</td>\n",
       "      <td>50.000000</td>\n",
       "    </tr>\n",
       "  </tbody>\n",
       "</table>\n",
       "</div>"
      ],
      "text/plain": [
       "              HW1         HW2         HW3         MT1         HW4         HW5  \\\n",
       "count  118.000000  118.000000  118.000000  118.000000  118.000000  118.000000   \n",
       "mean    18.129237   17.713983   17.283898   35.309322   18.836864   18.875000   \n",
       "std      2.702036    3.609146    3.062894    4.961032    3.302967    2.767089   \n",
       "min      0.000000    0.000000    0.000000   16.000000    0.000000    0.000000   \n",
       "25%     17.500000   17.500000   16.000000   34.062500   19.000000   19.000000   \n",
       "50%     19.000000   19.000000   18.000000   37.000000   20.000000   20.000000   \n",
       "75%     20.000000   20.000000   19.500000   38.250000   20.000000   20.000000   \n",
       "max     20.000000   20.000000   20.000000   40.000000   20.000000   20.000000   \n",
       "\n",
       "              HW6         MT2         HW7       Final  \n",
       "count  118.000000  118.000000  118.000000  118.000000  \n",
       "mean    16.919492   34.093220   19.224576   40.029661  \n",
       "std      3.010644    5.698984    1.869226    7.692902  \n",
       "min      4.250000   11.000000   12.000000   19.000000  \n",
       "25%     15.062500   31.625000   20.000000   35.000000  \n",
       "50%     18.000000   36.000000   20.000000   43.000000  \n",
       "75%     19.187500   38.000000   20.000000   45.375000  \n",
       "max     20.000000   40.000000   20.000000   50.000000  "
      ]
     },
     "execution_count": 11,
     "metadata": {},
     "output_type": "execute_result"
    }
   ],
   "source": [
    "# Let's first get a sense of\n",
    "grades.describe()"
   ]
  },
  {
   "cell_type": "markdown",
   "metadata": {},
   "source": [
    "## Numpy"
   ]
  },
  {
   "cell_type": "code",
   "execution_count": 12,
   "metadata": {},
   "outputs": [
    {
     "name": "stdout",
     "output_type": "stream",
     "text": [
      "(118, 10) (118,)\n",
      "(118, 1)\n"
     ]
    }
   ],
   "source": [
    "# Run Linear Regression with Linear Algebra (note in Python slicing is of the form [a,b) i.e. b not included, unlike in R)\n",
    "X_df = grades.iloc[:,:-1] # separte our predictor variables from our response in our data frame (-1 refers to the last)\n",
    "y_df = grades.iloc[:,-1] # extract to the final column\n",
    "\n",
    "# Here we convert our pandas data frames to numpy matrices (aka arrays)\n",
    "# np.hstack() is like cbind() in R\n",
    "X = np.hstack((np.ones((X_df.shape[0],1)),np.array(X_df))) # add column of ones to create design matrix\n",
    "y = np.array(y_df)\n",
    "\n",
    "print(X.shape, y.shape)\n",
    "y = y.reshape((y.shape[0],1))\n",
    "print(y.shape) "
   ]
  },
  {
   "cell_type": "markdown",
   "metadata": {},
   "source": [
    "- You can see there is a difference in the dimensions (118, ) and (118, 1). Sometime you need one format and other times you need the other. It all depends on which functions and methods these arrays are being fed into. \n",
    "- (R,) is a vector or a 1-D array\n",
    "- (R,1) is a 2-D array that happens to only have one column\n",
    "- See this explanation for more details: \n",
    "https://stackoverflow.com/questions/22053050/difference-between-numpy-array-shape-r-1-and-r"
   ]
  },
  {
   "cell_type": "code",
   "execution_count": 13,
   "metadata": {
    "collapsed": true
   },
   "outputs": [],
   "source": [
    "b = np.linalg.inv(X.T.dot(X)).dot(X.T).dot(y)"
   ]
  },
  {
   "cell_type": "markdown",
   "metadata": {},
   "source": [
    "- to find our estimates of regression coefficients, we perorm the linear algebra operations\n",
    "- np.linalg.inv(A) finds the inverse of a matrix (assuming one exists)\n",
    "- A.T as you can imagine is the transpose of matrix A\n",
    "- A.dot(B) is the product of matrices A and B "
   ]
  },
  {
   "cell_type": "code",
   "execution_count": 14,
   "metadata": {},
   "outputs": [
    {
     "data": {
      "text/plain": [
       "(10, 1)"
      ]
     },
     "execution_count": 14,
     "metadata": {},
     "output_type": "execute_result"
    }
   ],
   "source": [
    "b = b.reshape((X.shape[1],1)) # Regression coefficients match SAS\n",
    "b.shape"
   ]
  },
  {
   "cell_type": "code",
   "execution_count": 15,
   "metadata": {},
   "outputs": [
    {
     "name": "stdout",
     "output_type": "stream",
     "text": [
      "range(2, 6)\n",
      "[2, 3, 4, 5]\n"
     ]
    }
   ],
   "source": [
    "print(range(2,6)) # range is basically made for iterating i.e. it won't print out a list of its elements itself\n",
    "print(list(range(2,6))) # to see what's in this list, use list() function"
   ]
  },
  {
   "cell_type": "code",
   "execution_count": 16,
   "metadata": {},
   "outputs": [
    {
     "data": {
      "text/plain": [
       "[2.3092948546472596,\n",
       " 2.5116479193676402,\n",
       " 2.185809702691857,\n",
       " 2.4873999172127634,\n",
       " 1.7579489966679791,\n",
       " 1.7349609671485051,\n",
       " 1.3052248126157402,\n",
       " 2.5026047164621446,\n",
       " 1.4804473147006614]"
      ]
     },
     "execution_count": 16,
     "metadata": {},
     "output_type": "execute_result"
    }
   ],
   "source": [
    "# Is there multicollinearity?\n",
    "vif = [] # initialize empty list of variance inflation factors to append to\n",
    "\n",
    "for i in range(1,(X[:,1:].shape[1]+1)): \n",
    "    X_vif = np.delete(X, (i), axis=1) # delete ith column (predictor) from design matrix\n",
    "    y_vif = X[:,i:(i+1)] # use ith predictor to regress on the rest\n",
    "    b_vif = np.linalg.inv(X_vif.T.dot(X_vif)).dot(X_vif.T).dot(y_vif) # vif regression coefficient estimates\n",
    "    yhat_vif = X_vif.dot(b_vif) # estimated responses for vif\n",
    "    e_vif = (y_vif - yhat_vif).reshape((y_vif.shape[0],1)) # vif residuals\n",
    "    sse_vif = np.sum(np.power(e_vif,2))  # vif SSE\n",
    "    sst_vif = np.sum(np.power(y_vif - y_vif.mean(),2)) # vif SSTO\n",
    "    ssr_vif = sst_vif - sse_vif # vif SSR\n",
    "    R2_i = ssr_vif / sst_vif # R^2_i\n",
    "    vif_i = 1 / (1 - R2_i) # ith variance inflation factor\n",
    "    vif.append(vif_i) # add to our vif list\n",
    "\n",
    "vif # not really, certainly no variance inflation factors over 10"
   ]
  },
  {
   "cell_type": "code",
   "execution_count": 17,
   "metadata": {
    "collapsed": true
   },
   "outputs": [],
   "source": [
    "# Cook's Distance\n",
    "yhat = X.dot(b)\n",
    "e = y - yhat\n",
    "e = e.reshape((e.shape[0],1)) # reshape the residuals into a 2-D array with one column\n",
    "H = X.dot(np.linalg.inv(X.T.dot(X))).dot(X.T) # Hat matrix (projection matrix): yhat = Hy\n",
    "hi = np.reshape(np.diag(H), (np.diag(H).shape[0],1)) # Leverage\n",
    "mse = np.sum(np.power(e,2)) / (X.shape[0] - X.shape[1]) # MSE matches SAS\n",
    "cooksD = (np.power(e,2) / (mse * X.shape[1])) * (hi / np.power((1 - hi),2)) # formula with leverage"
   ]
  },
  {
   "cell_type": "code",
   "execution_count": 18,
   "metadata": {},
   "outputs": [
    {
     "data": {
      "text/plain": [
       "(118, 1)"
      ]
     },
     "execution_count": 18,
     "metadata": {},
     "output_type": "execute_result"
    }
   ],
   "source": [
    "cooksD.shape"
   ]
  },
  {
   "cell_type": "code",
   "execution_count": 19,
   "metadata": {},
   "outputs": [
    {
     "data": {
      "text/plain": [
       "<matplotlib.text.Text at 0x1f067696e10>"
      ]
     },
     "execution_count": 19,
     "metadata": {},
     "output_type": "execute_result"
    },
    {
     "data": {
      "image/png": "[encoded data removed]",
      "text/plain": [
       "<matplotlib.figure.Figure at 0x1f06667f4e0>"
      ]
     },
     "metadata": {},
     "output_type": "display_data"
    }
   ],
   "source": [
    "# plot Cook's Distance by observation - couldn't find a needle plot like in SAS, but this gets the idea across \n",
    "plt.plot(cooksD)\n",
    "plt.title('Cook\\'s Distance')\n",
    "plt.xlabel('Observation Number')\n",
    "plt.ylabel('CooksD')          "
   ]
  },
  {
   "cell_type": "code",
   "execution_count": 20,
   "metadata": {},
   "outputs": [
    {
     "name": "stdout",
     "output_type": "stream",
     "text": [
      "(array([74], dtype=int64),) [ 1.1187195]\n"
     ]
    }
   ],
   "source": [
    "np.sum(cooksD>.5) # only one observation has cooks distance higher than .5\n",
    "influential_obs = np.where(cooksD.ravel()>.5) # np.ravel flattens to shape(n,); np.where() is like which() in R\n",
    "print(influential_obs, cooksD[np.where(cooksD>.5)]) # matches SAS"
   ]
  },
  {
   "cell_type": "code",
   "execution_count": 21,
   "metadata": {},
   "outputs": [
    {
     "name": "stdout",
     "output_type": "stream",
     "text": [
      "[[  1.    12.    14.     6.    16.     0.     0.    14.    11.    20.  ]\n",
      " [  1.    18.75  17.    17.    34.5   19.    20.    11.75  31.    20.  ]]\n",
      "[[  1.    18.75  17.    17.    34.5   19.    20.    11.75  31.    20.  ]\n",
      " [  1.    20.    20.    18.    38.    20.    20.    18.    37.    20.  ]]\n"
     ]
    }
   ],
   "source": [
    "# Remove influential observation\n",
    "print(X[74:76,:]) # print observations 74 and 75\n",
    "X_new = np.delete(X, (74), axis=0) # delete 74th observation (row)\n",
    "print(X_new[74:76,:]) # print observations 74 and 75 to make sure it worked\n",
    "y_new = np.delete(y, (74), axis=0)"
   ]
  },
  {
   "cell_type": "code",
   "execution_count": 22,
   "metadata": {},
   "outputs": [
    {
     "data": {
      "text/plain": [
       "array([[ 9.94719582],\n",
       "       [-0.42192619],\n",
       "       [ 0.14680696],\n",
       "       [ 0.09836213],\n",
       "       [ 0.3538559 ],\n",
       "       [ 0.02523333],\n",
       "       [ 0.07564809],\n",
       "       [ 0.13917565],\n",
       "       [ 0.71293909],\n",
       "       [-0.40875589]])"
      ]
     },
     "execution_count": 22,
     "metadata": {},
     "output_type": "execute_result"
    }
   ],
   "source": [
    "# Re-Run Regression without this influential observation.\n",
    "b_new = np.linalg.inv(X_new.T.dot(X_new)).dot(X_new.T).dot(y_new)\n",
    "b_new # matches SAS"
   ]
  },
  {
   "cell_type": "code",
   "execution_count": 23,
   "metadata": {},
   "outputs": [
    {
     "name": "stdout",
     "output_type": "stream",
     "text": [
      "6920.23076923 6920.23076923\n",
      "F-Statistic:  7.81740502027 p-value:  8.75982886228e-09\n"
     ]
    },
    {
     "data": {
      "text/html": [
       "<div>\n",
       "<style>\n",
       "    .dataframe thead tr:only-child th {\n",
       "        text-align: right;\n",
       "    }\n",
       "\n",
       "    .dataframe thead th {\n",
       "        text-align: left;\n",
       "    }\n",
       "\n",
       "    .dataframe tbody tr th {\n",
       "        vertical-align: top;\n",
       "    }\n",
       "</style>\n",
       "<table border=\"1\" class=\"dataframe\">\n",
       "  <thead>\n",
       "    <tr style=\"text-align: right;\">\n",
       "      <th></th>\n",
       "      <th>Source</th>\n",
       "      <th>SS</th>\n",
       "      <th>MS</th>\n",
       "      <th>F</th>\n",
       "      <th>P-val</th>\n",
       "    </tr>\n",
       "  </thead>\n",
       "  <tbody>\n",
       "    <tr>\n",
       "      <th>Model</th>\n",
       "      <td>9</td>\n",
       "      <td>2745.227</td>\n",
       "      <td>305.025</td>\n",
       "      <td>7.817</td>\n",
       "      <td>8.75983e-09</td>\n",
       "    </tr>\n",
       "    <tr>\n",
       "      <th>Error</th>\n",
       "      <td>107</td>\n",
       "      <td>4175.004</td>\n",
       "      <td>39.019</td>\n",
       "      <td></td>\n",
       "      <td></td>\n",
       "    </tr>\n",
       "    <tr>\n",
       "      <th>Total</th>\n",
       "      <td>116</td>\n",
       "      <td>6920.231</td>\n",
       "      <td></td>\n",
       "      <td></td>\n",
       "      <td></td>\n",
       "    </tr>\n",
       "  </tbody>\n",
       "</table>\n",
       "</div>"
      ],
      "text/plain": [
       "       Source        SS       MS      F        P-val\n",
       "Model       9  2745.227  305.025  7.817  8.75983e-09\n",
       "Error     107  4175.004   39.019                    \n",
       "Total     116  6920.231                             "
      ]
     },
     "execution_count": 23,
     "metadata": {},
     "output_type": "execute_result"
    }
   ],
   "source": [
    "# ANOVA Table\n",
    "yhat_new = X_new.dot(b_new)\n",
    "e_new = y_new - yhat_new\n",
    "sse = np.sum(np.power(e_new,2))\n",
    "mse = sse / (X_new.shape[0] - X_new.shape[1]) # k = number of predictors, y_new.shape[1] = number of parameters = k + 1\n",
    "ssr = np.sum(np.power(yhat_new - y_new.mean(),2)) # to raise each entry in an array to a power, use np.power()\n",
    "msr = ssr / (X_new.shape[1]-1)\n",
    "sst = np.sum(np.power(y_new - y_new.mean(),2))\n",
    "print(sse + ssr, sst) # check \n",
    "f_stat = msr / mse\n",
    "\n",
    "from scipy.stats import f # let's compute p-value of our F-statistic\n",
    "p_val_f = 1 - f.cdf(f_stat, X_new.shape[1] - 1, X_new.shape[0] - X_new.shape[1])\n",
    "\n",
    "print('F-Statistic: ', f_stat, 'p-value: ', p_val_f)\n",
    "\n",
    "\n",
    "anova_data = [(X_new.shape[1] - 1, np.round(ssr,3), np.round(msr,3), np.round(f_stat,3), p_val_f),\n",
    "             (X_new.shape[0] - X_new.shape[1], np.round(sse,3), np.round(mse,3), '', ''),\n",
    "             (X_new.shape[0] - 1, np.round(sst,3), '', '', '')]\n",
    "\n",
    "anova_table = pd.DataFrame(anova_data, columns=['Source', 'SS', 'MS', 'F', 'P-val'], index=['Model', 'Error', 'Total'])\n",
    "\n",
    "anova_table"
   ]
  },
  {
   "cell_type": "code",
   "execution_count": 24,
   "metadata": {},
   "outputs": [
    {
     "name": "stdout",
     "output_type": "stream",
     "text": [
      "The estimate of sigma:  6.246\n"
     ]
    }
   ],
   "source": [
    "# Estimate the standard deviation of the error term\n",
    "s = np.sqrt(mse)\n",
    "print('The estimate of sigma: ', np.round(s,3))"
   ]
  },
  {
   "cell_type": "code",
   "execution_count": 25,
   "metadata": {},
   "outputs": [
    {
     "name": "stdout",
     "output_type": "stream",
     "text": [
      "R-Sqauared:  0.396695850387 Adjusted R-Squared:  0.345950641541\n"
     ]
    }
   ],
   "source": [
    "# Compute R^2 and Adjusted R^2\n",
    "R2 = ssr / sst\n",
    "R2_adj = 1 - (1 - R2) * (X_new.shape[0] - 1) / (X_new.shape[0] - X_new.shape[1])\n",
    "print('R-Sqauared: ', R2, 'Adjusted R-Squared: ', R2_adj)"
   ]
  },
  {
   "cell_type": "code",
   "execution_count": 26,
   "metadata": {},
   "outputs": [
    {
     "data": {
      "text/html": [
       "<div>\n",
       "<style>\n",
       "    .dataframe thead tr:only-child th {\n",
       "        text-align: right;\n",
       "    }\n",
       "\n",
       "    .dataframe thead th {\n",
       "        text-align: left;\n",
       "    }\n",
       "\n",
       "    .dataframe tbody tr th {\n",
       "        vertical-align: top;\n",
       "    }\n",
       "</style>\n",
       "<table border=\"1\" class=\"dataframe\">\n",
       "  <thead>\n",
       "    <tr style=\"text-align: right;\">\n",
       "      <th></th>\n",
       "      <th>Parameter Estimate</th>\n",
       "      <th>Standard Error</th>\n",
       "      <th>t Value</th>\n",
       "      <th>Pr &gt; |t|</th>\n",
       "    </tr>\n",
       "  </thead>\n",
       "  <tbody>\n",
       "    <tr>\n",
       "      <th>Intercept</th>\n",
       "      <td>9.947196</td>\n",
       "      <td>8.422358</td>\n",
       "      <td>1.181046</td>\n",
       "      <td>0.240203</td>\n",
       "    </tr>\n",
       "    <tr>\n",
       "      <th>HW1</th>\n",
       "      <td>-0.421926</td>\n",
       "      <td>0.332539</td>\n",
       "      <td>-1.268802</td>\n",
       "      <td>0.207265</td>\n",
       "    </tr>\n",
       "    <tr>\n",
       "      <th>HW2</th>\n",
       "      <td>0.146807</td>\n",
       "      <td>0.279239</td>\n",
       "      <td>0.525740</td>\n",
       "      <td>0.600157</td>\n",
       "    </tr>\n",
       "    <tr>\n",
       "      <th>HW3</th>\n",
       "      <td>0.098362</td>\n",
       "      <td>0.279060</td>\n",
       "      <td>0.352477</td>\n",
       "      <td>0.725174</td>\n",
       "    </tr>\n",
       "    <tr>\n",
       "      <th>MT1</th>\n",
       "      <td>0.353856</td>\n",
       "      <td>0.184066</td>\n",
       "      <td>1.922436</td>\n",
       "      <td>0.057210</td>\n",
       "    </tr>\n",
       "    <tr>\n",
       "      <th>HW4</th>\n",
       "      <td>0.025233</td>\n",
       "      <td>0.252655</td>\n",
       "      <td>0.099873</td>\n",
       "      <td>0.920632</td>\n",
       "    </tr>\n",
       "    <tr>\n",
       "      <th>HW5</th>\n",
       "      <td>0.075648</td>\n",
       "      <td>0.321975</td>\n",
       "      <td>0.234950</td>\n",
       "      <td>0.814696</td>\n",
       "    </tr>\n",
       "    <tr>\n",
       "      <th>HW6</th>\n",
       "      <td>0.139176</td>\n",
       "      <td>0.220430</td>\n",
       "      <td>0.631381</td>\n",
       "      <td>0.529138</td>\n",
       "    </tr>\n",
       "    <tr>\n",
       "      <th>MT2</th>\n",
       "      <td>0.712939</td>\n",
       "      <td>0.163753</td>\n",
       "      <td>4.353741</td>\n",
       "      <td>0.000031</td>\n",
       "    </tr>\n",
       "    <tr>\n",
       "      <th>HW7</th>\n",
       "      <td>-0.408756</td>\n",
       "      <td>0.397344</td>\n",
       "      <td>-1.028721</td>\n",
       "      <td>0.305931</td>\n",
       "    </tr>\n",
       "  </tbody>\n",
       "</table>\n",
       "</div>"
      ],
      "text/plain": [
       "           Parameter Estimate  Standard Error   t Value  Pr > |t|\n",
       "Intercept            9.947196        8.422358  1.181046  0.240203\n",
       "HW1                 -0.421926        0.332539 -1.268802  0.207265\n",
       "HW2                  0.146807        0.279239  0.525740  0.600157\n",
       "HW3                  0.098362        0.279060  0.352477  0.725174\n",
       "MT1                  0.353856        0.184066  1.922436  0.057210\n",
       "HW4                  0.025233        0.252655  0.099873  0.920632\n",
       "HW5                  0.075648        0.321975  0.234950  0.814696\n",
       "HW6                  0.139176        0.220430  0.631381  0.529138\n",
       "MT2                  0.712939        0.163753  4.353741  0.000031\n",
       "HW7                 -0.408756        0.397344 -1.028721  0.305931"
      ]
     },
     "execution_count": 26,
     "metadata": {},
     "output_type": "execute_result"
    }
   ],
   "source": [
    "# Variance-Covariance Matrix\n",
    "cov_matrix = mse * np.linalg.inv(X_new.T.dot(X_new))\n",
    "\n",
    "# Standard errors of regression coefficients\n",
    "standard_errors = np.sqrt(np.diag(cov_matrix))\n",
    "\n",
    "# t-statistics\n",
    "t_stat = b_new.ravel() / standard_errors # with numpy operations, you can use np.operation(A) or A.operation()\n",
    "\n",
    "# P-values\n",
    "from scipy.stats import t\n",
    "p_vals = 2*(1 - t.cdf(np.abs(t_stat), X_new.shape[0] - X_new.shape[1]))\n",
    "\n",
    "# Create Parameter Estimates table as in SAS\n",
    "param_est_data = np.hstack((b_new, standard_errors.reshape((X_new.shape[1],1)), t_stat.reshape((X_new.shape[1],1)), p_vals.reshape((X_new.shape[1],1))))\n",
    "var_list = list(grades.columns[:-1])\n",
    "var_list.insert(0, 'Intercept')\n",
    "param_est_table = pd.DataFrame(param_est_data, columns=['Parameter Estimate', 'Standard Error', 't Value', 'Pr > |t|'], index=var_list)\n",
    "param_est_table"
   ]
  },
  {
   "cell_type": "code",
   "execution_count": 27,
   "metadata": {},
   "outputs": [
    {
     "data": {
      "text/html": [
       "<div>\n",
       "<style>\n",
       "    .dataframe thead tr:only-child th {\n",
       "        text-align: right;\n",
       "    }\n",
       "\n",
       "    .dataframe thead th {\n",
       "        text-align: left;\n",
       "    }\n",
       "\n",
       "    .dataframe tbody tr th {\n",
       "        vertical-align: top;\n",
       "    }\n",
       "</style>\n",
       "<table border=\"1\" class=\"dataframe\">\n",
       "  <thead>\n",
       "    <tr style=\"text-align: right;\">\n",
       "      <th></th>\n",
       "      <th>Lower</th>\n",
       "      <th>Upper</th>\n",
       "    </tr>\n",
       "  </thead>\n",
       "  <tbody>\n",
       "    <tr>\n",
       "      <th>Intercept</th>\n",
       "      <td>-6.749147</td>\n",
       "      <td>26.643538</td>\n",
       "    </tr>\n",
       "    <tr>\n",
       "      <th>HW1</th>\n",
       "      <td>-1.081146</td>\n",
       "      <td>0.237294</td>\n",
       "    </tr>\n",
       "    <tr>\n",
       "      <th>HW2</th>\n",
       "      <td>-0.406752</td>\n",
       "      <td>0.700366</td>\n",
       "    </tr>\n",
       "    <tr>\n",
       "      <th>HW3</th>\n",
       "      <td>-0.454842</td>\n",
       "      <td>0.651566</td>\n",
       "    </tr>\n",
       "    <tr>\n",
       "      <th>MT1</th>\n",
       "      <td>-0.011034</td>\n",
       "      <td>0.718746</td>\n",
       "    </tr>\n",
       "    <tr>\n",
       "      <th>HW4</th>\n",
       "      <td>-0.475626</td>\n",
       "      <td>0.526093</td>\n",
       "    </tr>\n",
       "    <tr>\n",
       "      <th>HW5</th>\n",
       "      <td>-0.562629</td>\n",
       "      <td>0.713926</td>\n",
       "    </tr>\n",
       "    <tr>\n",
       "      <th>HW6</th>\n",
       "      <td>-0.297802</td>\n",
       "      <td>0.576153</td>\n",
       "    </tr>\n",
       "    <tr>\n",
       "      <th>MT2</th>\n",
       "      <td>0.388317</td>\n",
       "      <td>1.037561</td>\n",
       "    </tr>\n",
       "    <tr>\n",
       "      <th>HW7</th>\n",
       "      <td>-1.196443</td>\n",
       "      <td>0.378932</td>\n",
       "    </tr>\n",
       "  </tbody>\n",
       "</table>\n",
       "</div>"
      ],
      "text/plain": [
       "              Lower      Upper\n",
       "Intercept -6.749147  26.643538\n",
       "HW1       -1.081146   0.237294\n",
       "HW2       -0.406752   0.700366\n",
       "HW3       -0.454842   0.651566\n",
       "MT1       -0.011034   0.718746\n",
       "HW4       -0.475626   0.526093\n",
       "HW5       -0.562629   0.713926\n",
       "HW6       -0.297802   0.576153\n",
       "MT2        0.388317   1.037561\n",
       "HW7       -1.196443   0.378932"
      ]
     },
     "execution_count": 27,
     "metadata": {},
     "output_type": "execute_result"
    }
   ],
   "source": [
    "# Confidence Intervals for Regression Coefficients\n",
    "# ppf (percent point function) is the inverse cdf\n",
    "upper = b_new + t.ppf(.975, X_new.shape[0] - X_new.shape[1]) * standard_errors.reshape((X_new.shape[1],1))\n",
    "lower = b_new - t.ppf(.975, X_new.shape[0] - X_new.shape[1]) * standard_errors.reshape((X_new.shape[1],1))\n",
    "CI_b_data = np.hstack((lower, upper))\n",
    "CI_b = pd.DataFrame(CI_b_data, columns=['Lower', 'Upper'], index=var_list)\n",
    "CI_b"
   ]
  },
  {
   "cell_type": "markdown",
   "metadata": {},
   "source": [
    "## Statsmodels API"
   ]
  },
  {
   "cell_type": "code",
   "execution_count": 28,
   "metadata": {},
   "outputs": [
    {
     "name": "stdout",
     "output_type": "stream",
     "text": [
      "[ 9.94719582 -0.42192619  0.14680696  0.09836213  0.3538559   0.02523333\n",
      "  0.07564809  0.13917565  0.71293909 -0.40875589]\n",
      "[[ 9.94719582]\n",
      " [-0.42192619]\n",
      " [ 0.14680696]\n",
      " [ 0.09836213]\n",
      " [ 0.3538559 ]\n",
      " [ 0.02523333]\n",
      " [ 0.07564809]\n",
      " [ 0.13917565]\n",
      " [ 0.71293909]\n",
      " [-0.40875589]]\n"
     ]
    }
   ],
   "source": [
    "# Now using statsmodels api \n",
    "mlr = sm.OLS(y_new, X_new).fit() # OLS method of the statsmodels module (nicknamed 'sm')\n",
    "print(mlr.params) # access the estimated regression coefficients via the parameters attribute\n",
    "print(b_new) # check (from previous estimation with numpy)"
   ]
  },
  {
   "cell_type": "code",
   "execution_count": 29,
   "metadata": {},
   "outputs": [
    {
     "data": {
      "text/html": [
       "<table class=\"simpletable\">\n",
       "<caption>OLS Regression Results</caption>\n",
       "<tr>\n",
       "  <th>Dep. Variable:</th>            <td>y</td>        <th>  R-squared:         </th> <td>   0.397</td>\n",
       "</tr>\n",
       "<tr>\n",
       "  <th>Model:</th>                   <td>OLS</td>       <th>  Adj. R-squared:    </th> <td>   0.346</td>\n",
       "</tr>\n",
       "<tr>\n",
       "  <th>Method:</th>             <td>Least Squares</td>  <th>  F-statistic:       </th> <td>   7.817</td>\n",
       "</tr>\n",
       "<tr>\n",
       "  <th>Date:</th>             <td>Sat, 26 Jan 2019</td> <th>  Prob (F-statistic):</th> <td>8.76e-09</td>\n",
       "</tr>\n",
       "<tr>\n",
       "  <th>Time:</th>                 <td>01:28:54</td>     <th>  Log-Likelihood:    </th> <td> -375.14</td>\n",
       "</tr>\n",
       "<tr>\n",
       "  <th>No. Observations:</th>      <td>   117</td>      <th>  AIC:               </th> <td>   770.3</td>\n",
       "</tr>\n",
       "<tr>\n",
       "  <th>Df Residuals:</th>          <td>   107</td>      <th>  BIC:               </th> <td>   797.9</td>\n",
       "</tr>\n",
       "<tr>\n",
       "  <th>Df Model:</th>              <td>     9</td>      <th>                     </th>     <td> </td>   \n",
       "</tr>\n",
       "<tr>\n",
       "  <th>Covariance Type:</th>      <td>nonrobust</td>    <th>                     </th>     <td> </td>   \n",
       "</tr>\n",
       "</table>\n",
       "<table class=\"simpletable\">\n",
       "<tr>\n",
       "    <td></td>       <th>coef</th>     <th>std err</th>      <th>t</th>      <th>P>|t|</th>  <th>[0.025</th>    <th>0.975]</th>  \n",
       "</tr>\n",
       "<tr>\n",
       "  <th>const</th> <td>    9.9472</td> <td>    8.422</td> <td>    1.181</td> <td> 0.240</td> <td>   -6.749</td> <td>   26.644</td>\n",
       "</tr>\n",
       "<tr>\n",
       "  <th>x1</th>    <td>   -0.4219</td> <td>    0.333</td> <td>   -1.269</td> <td> 0.207</td> <td>   -1.081</td> <td>    0.237</td>\n",
       "</tr>\n",
       "<tr>\n",
       "  <th>x2</th>    <td>    0.1468</td> <td>    0.279</td> <td>    0.526</td> <td> 0.600</td> <td>   -0.407</td> <td>    0.700</td>\n",
       "</tr>\n",
       "<tr>\n",
       "  <th>x3</th>    <td>    0.0984</td> <td>    0.279</td> <td>    0.352</td> <td> 0.725</td> <td>   -0.455</td> <td>    0.652</td>\n",
       "</tr>\n",
       "<tr>\n",
       "  <th>x4</th>    <td>    0.3539</td> <td>    0.184</td> <td>    1.922</td> <td> 0.057</td> <td>   -0.011</td> <td>    0.719</td>\n",
       "</tr>\n",
       "<tr>\n",
       "  <th>x5</th>    <td>    0.0252</td> <td>    0.253</td> <td>    0.100</td> <td> 0.921</td> <td>   -0.476</td> <td>    0.526</td>\n",
       "</tr>\n",
       "<tr>\n",
       "  <th>x6</th>    <td>    0.0756</td> <td>    0.322</td> <td>    0.235</td> <td> 0.815</td> <td>   -0.563</td> <td>    0.714</td>\n",
       "</tr>\n",
       "<tr>\n",
       "  <th>x7</th>    <td>    0.1392</td> <td>    0.220</td> <td>    0.631</td> <td> 0.529</td> <td>   -0.298</td> <td>    0.576</td>\n",
       "</tr>\n",
       "<tr>\n",
       "  <th>x8</th>    <td>    0.7129</td> <td>    0.164</td> <td>    4.354</td> <td> 0.000</td> <td>    0.388</td> <td>    1.038</td>\n",
       "</tr>\n",
       "<tr>\n",
       "  <th>x9</th>    <td>   -0.4088</td> <td>    0.397</td> <td>   -1.029</td> <td> 0.306</td> <td>   -1.196</td> <td>    0.379</td>\n",
       "</tr>\n",
       "</table>\n",
       "<table class=\"simpletable\">\n",
       "<tr>\n",
       "  <th>Omnibus:</th>       <td>20.950</td> <th>  Durbin-Watson:     </th> <td>   1.843</td>\n",
       "</tr>\n",
       "<tr>\n",
       "  <th>Prob(Omnibus):</th> <td> 0.000</td> <th>  Jarque-Bera (JB):  </th> <td>  26.186</td>\n",
       "</tr>\n",
       "<tr>\n",
       "  <th>Skew:</th>          <td>-1.003</td> <th>  Prob(JB):          </th> <td>2.06e-06</td>\n",
       "</tr>\n",
       "<tr>\n",
       "  <th>Kurtosis:</th>      <td> 4.159</td> <th>  Cond. No.          </th> <td>1.01e+03</td>\n",
       "</tr>\n",
       "</table><br/><br/>Warnings:<br/>[1] Standard Errors assume that the covariance matrix of the errors is correctly specified.<br/>[2] The condition number is large, 1.01e+03. This might indicate that there are<br/>strong multicollinearity or other numerical problems."
      ],
      "text/plain": [
       "<class 'statsmodels.iolib.summary.Summary'>\n",
       "\"\"\"\n",
       "                            OLS Regression Results                            \n",
       "==============================================================================\n",
       "Dep. Variable:                      y   R-squared:                       0.397\n",
       "Model:                            OLS   Adj. R-squared:                  0.346\n",
       "Method:                 Least Squares   F-statistic:                     7.817\n",
       "Date:                Sat, 26 Jan 2019   Prob (F-statistic):           8.76e-09\n",
       "Time:                        01:28:54   Log-Likelihood:                -375.14\n",
       "No. Observations:                 117   AIC:                             770.3\n",
       "Df Residuals:                     107   BIC:                             797.9\n",
       "Df Model:                           9                                         \n",
       "Covariance Type:            nonrobust                                         \n",
       "==============================================================================\n",
       "                 coef    std err          t      P>|t|      [0.025      0.975]\n",
       "------------------------------------------------------------------------------\n",
       "const          9.9472      8.422      1.181      0.240      -6.749      26.644\n",
       "x1            -0.4219      0.333     -1.269      0.207      -1.081       0.237\n",
       "x2             0.1468      0.279      0.526      0.600      -0.407       0.700\n",
       "x3             0.0984      0.279      0.352      0.725      -0.455       0.652\n",
       "x4             0.3539      0.184      1.922      0.057      -0.011       0.719\n",
       "x5             0.0252      0.253      0.100      0.921      -0.476       0.526\n",
       "x6             0.0756      0.322      0.235      0.815      -0.563       0.714\n",
       "x7             0.1392      0.220      0.631      0.529      -0.298       0.576\n",
       "x8             0.7129      0.164      4.354      0.000       0.388       1.038\n",
       "x9            -0.4088      0.397     -1.029      0.306      -1.196       0.379\n",
       "==============================================================================\n",
       "Omnibus:                       20.950   Durbin-Watson:                   1.843\n",
       "Prob(Omnibus):                  0.000   Jarque-Bera (JB):               26.186\n",
       "Skew:                          -1.003   Prob(JB):                     2.06e-06\n",
       "Kurtosis:                       4.159   Cond. No.                     1.01e+03\n",
       "==============================================================================\n",
       "\n",
       "Warnings:\n",
       "[1] Standard Errors assume that the covariance matrix of the errors is correctly specified.\n",
       "[2] The condition number is large, 1.01e+03. This might indicate that there are\n",
       "strong multicollinearity or other numerical problems.\n",
       "\"\"\""
      ]
     },
     "execution_count": 29,
     "metadata": {},
     "output_type": "execute_result"
    }
   ],
   "source": [
    "mlr.summary() # similar to summary(lm(y~.)) and SAS output"
   ]
  },
  {
   "cell_type": "markdown",
   "metadata": {},
   "source": [
    "- One disadvantage to the above output is that since the data was transformed from dataframes to numpy arrays, the data lost their variable names.\n",
    "- We can fix this by inputting a list of variables into the summary() method as we will see below with Backward Elimination."
   ]
  },
  {
   "cell_type": "code",
   "execution_count": 30,
   "metadata": {},
   "outputs": [
    {
     "name": "stdout",
     "output_type": "stream",
     "text": [
      "[  2.40202824e-01   2.07264991e-01   6.00157003e-01   7.25174160e-01\n",
      "   5.72099261e-02   9.20632305e-01   8.14696327e-01   5.29137889e-01\n",
      "   3.07472578e-05   3.05930537e-01]\n"
     ]
    }
   ],
   "source": [
    "pvals_sm = mlr.pvalues\n",
    "print(pvals_sm)"
   ]
  },
  {
   "cell_type": "code",
   "execution_count": 31,
   "metadata": {},
   "outputs": [
    {
     "data": {
      "text/html": [
       "<table class=\"simpletable\">\n",
       "<caption>OLS Regression Results</caption>\n",
       "<tr>\n",
       "  <th>Dep. Variable:</th>            <td>y</td>        <th>  R-squared:         </th> <td>   0.375</td>\n",
       "</tr>\n",
       "<tr>\n",
       "  <th>Model:</th>                   <td>OLS</td>       <th>  Adj. R-squared:    </th> <td>   0.364</td>\n",
       "</tr>\n",
       "<tr>\n",
       "  <th>Method:</th>             <td>Least Squares</td>  <th>  F-statistic:       </th> <td>   34.14</td>\n",
       "</tr>\n",
       "<tr>\n",
       "  <th>Date:</th>             <td>Sat, 26 Jan 2019</td> <th>  Prob (F-statistic):</th> <td>2.40e-12</td>\n",
       "</tr>\n",
       "<tr>\n",
       "  <th>Time:</th>                 <td>01:28:59</td>     <th>  Log-Likelihood:    </th> <td> -377.24</td>\n",
       "</tr>\n",
       "<tr>\n",
       "  <th>No. Observations:</th>      <td>   117</td>      <th>  AIC:               </th> <td>   760.5</td>\n",
       "</tr>\n",
       "<tr>\n",
       "  <th>Df Residuals:</th>          <td>   114</td>      <th>  BIC:               </th> <td>   768.8</td>\n",
       "</tr>\n",
       "<tr>\n",
       "  <th>Df Model:</th>              <td>     2</td>      <th>                     </th>     <td> </td>   \n",
       "</tr>\n",
       "<tr>\n",
       "  <th>Covariance Type:</th>      <td>nonrobust</td>    <th>                     </th>     <td> </td>   \n",
       "</tr>\n",
       "</table>\n",
       "<table class=\"simpletable\">\n",
       "<tr>\n",
       "    <td></td>       <th>coef</th>     <th>std err</th>      <th>t</th>      <th>P>|t|</th>  <th>[0.025</th>    <th>0.975]</th>  \n",
       "</tr>\n",
       "<tr>\n",
       "  <th>const</th> <td>    4.0542</td> <td>    4.673</td> <td>    0.868</td> <td> 0.387</td> <td>   -5.203</td> <td>   13.311</td>\n",
       "</tr>\n",
       "<tr>\n",
       "  <th>x1</th>    <td>    0.3530</td> <td>    0.147</td> <td>    2.396</td> <td> 0.018</td> <td>    0.061</td> <td>    0.645</td>\n",
       "</tr>\n",
       "<tr>\n",
       "  <th>x2</th>    <td>    0.6835</td> <td>    0.129</td> <td>    5.297</td> <td> 0.000</td> <td>    0.428</td> <td>    0.939</td>\n",
       "</tr>\n",
       "</table>\n",
       "<table class=\"simpletable\">\n",
       "<tr>\n",
       "  <th>Omnibus:</th>       <td>21.402</td> <th>  Durbin-Watson:     </th> <td>   1.831</td>\n",
       "</tr>\n",
       "<tr>\n",
       "  <th>Prob(Omnibus):</th> <td> 0.000</td> <th>  Jarque-Bera (JB):  </th> <td>  26.440</td>\n",
       "</tr>\n",
       "<tr>\n",
       "  <th>Skew:</th>          <td>-1.058</td> <th>  Prob(JB):          </th> <td>1.81e-06</td>\n",
       "</tr>\n",
       "<tr>\n",
       "  <th>Kurtosis:</th>      <td> 3.972</td> <th>  Cond. No.          </th> <td>    408.</td>\n",
       "</tr>\n",
       "</table><br/><br/>Warnings:<br/>[1] Standard Errors assume that the covariance matrix of the errors is correctly specified."
      ],
      "text/plain": [
       "<class 'statsmodels.iolib.summary.Summary'>\n",
       "\"\"\"\n",
       "                            OLS Regression Results                            \n",
       "==============================================================================\n",
       "Dep. Variable:                      y   R-squared:                       0.375\n",
       "Model:                            OLS   Adj. R-squared:                  0.364\n",
       "Method:                 Least Squares   F-statistic:                     34.14\n",
       "Date:                Sat, 26 Jan 2019   Prob (F-statistic):           2.40e-12\n",
       "Time:                        01:28:59   Log-Likelihood:                -377.24\n",
       "No. Observations:                 117   AIC:                             760.5\n",
       "Df Residuals:                     114   BIC:                             768.8\n",
       "Df Model:                           2                                         \n",
       "Covariance Type:            nonrobust                                         \n",
       "==============================================================================\n",
       "                 coef    std err          t      P>|t|      [0.025      0.975]\n",
       "------------------------------------------------------------------------------\n",
       "const          4.0542      4.673      0.868      0.387      -5.203      13.311\n",
       "x1             0.3530      0.147      2.396      0.018       0.061       0.645\n",
       "x2             0.6835      0.129      5.297      0.000       0.428       0.939\n",
       "==============================================================================\n",
       "Omnibus:                       21.402   Durbin-Watson:                   1.831\n",
       "Prob(Omnibus):                  0.000   Jarque-Bera (JB):               26.440\n",
       "Skew:                          -1.058   Prob(JB):                     1.81e-06\n",
       "Kurtosis:                       3.972   Cond. No.                         408.\n",
       "==============================================================================\n",
       "\n",
       "Warnings:\n",
       "[1] Standard Errors assume that the covariance matrix of the errors is correctly specified.\n",
       "\"\"\""
      ]
     },
     "execution_count": 31,
     "metadata": {},
     "output_type": "execute_result"
    }
   ],
   "source": [
    "# Backward Elimination (BE)\n",
    "slstay = .10\n",
    "X_BE = X_new\n",
    "while pvals_sm[1:][np.argmax(pvals_sm[1:])] > slstay: # don't want to eliminate the intercept\n",
    "    \n",
    "    # delete entire column corresponding to least significant predictor\n",
    "    X_BE_temp = np.delete(X_BE[:,1:], np.argmax(pvals_sm[1:]), axis=1) \n",
    "    \n",
    "    # reattach column of 1s for design matrix\n",
    "    X_BE = np.hstack((np.ones((X_new.shape[0],1)), X_BE_temp))\n",
    "    \n",
    "    # re-fit new regression model\n",
    "    mlr_BE = sm.OLS(y_new, X_BE).fit()\n",
    "    \n",
    "    # extract new p-values\n",
    "    pvals_sm = mlr_BE.pvalues\n",
    "\n",
    "mlr_BE.summary() # matches SAS - x1 and x2 are MT1 and MT2 (but only from looking at SAS output)"
   ]
  },
  {
   "cell_type": "markdown",
   "metadata": {},
   "source": [
    "- As we can see from the above output, x1 and x2 show up as the predictor names, which isn't terribly helpful.\n",
    "- This is fixed in the code below by deleting the variables from a variable list in the same iteration as deleting the columns in our data matrix."
   ]
  },
  {
   "cell_type": "code",
   "execution_count": 32,
   "metadata": {},
   "outputs": [
    {
     "name": "stdout",
     "output_type": "stream",
     "text": [
      "4\n",
      "HW4\n",
      "4\n",
      "HW5\n",
      "2\n",
      "HW3\n",
      "3\n",
      "HW6\n",
      "1\n",
      "HW2\n",
      "3\n",
      "HW7\n",
      "0\n",
      "HW1\n",
      "['MT1', 'MT2']\n"
     ]
    },
    {
     "data": {
      "text/html": [
       "<table class=\"simpletable\">\n",
       "<caption>OLS Regression Results</caption>\n",
       "<tr>\n",
       "  <th>Dep. Variable:</th>            <td>y</td>        <th>  R-squared:         </th> <td>   0.375</td>\n",
       "</tr>\n",
       "<tr>\n",
       "  <th>Model:</th>                   <td>OLS</td>       <th>  Adj. R-squared:    </th> <td>   0.364</td>\n",
       "</tr>\n",
       "<tr>\n",
       "  <th>Method:</th>             <td>Least Squares</td>  <th>  F-statistic:       </th> <td>   34.14</td>\n",
       "</tr>\n",
       "<tr>\n",
       "  <th>Date:</th>             <td>Sat, 26 Jan 2019</td> <th>  Prob (F-statistic):</th> <td>2.40e-12</td>\n",
       "</tr>\n",
       "<tr>\n",
       "  <th>Time:</th>                 <td>01:29:02</td>     <th>  Log-Likelihood:    </th> <td> -377.24</td>\n",
       "</tr>\n",
       "<tr>\n",
       "  <th>No. Observations:</th>      <td>   117</td>      <th>  AIC:               </th> <td>   760.5</td>\n",
       "</tr>\n",
       "<tr>\n",
       "  <th>Df Residuals:</th>          <td>   114</td>      <th>  BIC:               </th> <td>   768.8</td>\n",
       "</tr>\n",
       "<tr>\n",
       "  <th>Df Model:</th>              <td>     2</td>      <th>                     </th>     <td> </td>   \n",
       "</tr>\n",
       "<tr>\n",
       "  <th>Covariance Type:</th>      <td>nonrobust</td>    <th>                     </th>     <td> </td>   \n",
       "</tr>\n",
       "</table>\n",
       "<table class=\"simpletable\">\n",
       "<tr>\n",
       "      <td></td>         <th>coef</th>     <th>std err</th>      <th>t</th>      <th>P>|t|</th>  <th>[0.025</th>    <th>0.975]</th>  \n",
       "</tr>\n",
       "<tr>\n",
       "  <th>Intercept</th> <td>    4.0542</td> <td>    4.673</td> <td>    0.868</td> <td> 0.387</td> <td>   -5.203</td> <td>   13.311</td>\n",
       "</tr>\n",
       "<tr>\n",
       "  <th>MT1</th>       <td>    0.3530</td> <td>    0.147</td> <td>    2.396</td> <td> 0.018</td> <td>    0.061</td> <td>    0.645</td>\n",
       "</tr>\n",
       "<tr>\n",
       "  <th>MT2</th>       <td>    0.6835</td> <td>    0.129</td> <td>    5.297</td> <td> 0.000</td> <td>    0.428</td> <td>    0.939</td>\n",
       "</tr>\n",
       "</table>\n",
       "<table class=\"simpletable\">\n",
       "<tr>\n",
       "  <th>Omnibus:</th>       <td>21.402</td> <th>  Durbin-Watson:     </th> <td>   1.831</td>\n",
       "</tr>\n",
       "<tr>\n",
       "  <th>Prob(Omnibus):</th> <td> 0.000</td> <th>  Jarque-Bera (JB):  </th> <td>  26.440</td>\n",
       "</tr>\n",
       "<tr>\n",
       "  <th>Skew:</th>          <td>-1.058</td> <th>  Prob(JB):          </th> <td>1.81e-06</td>\n",
       "</tr>\n",
       "<tr>\n",
       "  <th>Kurtosis:</th>      <td> 3.972</td> <th>  Cond. No.          </th> <td>    408.</td>\n",
       "</tr>\n",
       "</table><br/><br/>Warnings:<br/>[1] Standard Errors assume that the covariance matrix of the errors is correctly specified."
      ],
      "text/plain": [
       "<class 'statsmodels.iolib.summary.Summary'>\n",
       "\"\"\"\n",
       "                            OLS Regression Results                            \n",
       "==============================================================================\n",
       "Dep. Variable:                      y   R-squared:                       0.375\n",
       "Model:                            OLS   Adj. R-squared:                  0.364\n",
       "Method:                 Least Squares   F-statistic:                     34.14\n",
       "Date:                Sat, 26 Jan 2019   Prob (F-statistic):           2.40e-12\n",
       "Time:                        01:29:02   Log-Likelihood:                -377.24\n",
       "No. Observations:                 117   AIC:                             760.5\n",
       "Df Residuals:                     114   BIC:                             768.8\n",
       "Df Model:                           2                                         \n",
       "Covariance Type:            nonrobust                                         \n",
       "==============================================================================\n",
       "                 coef    std err          t      P>|t|      [0.025      0.975]\n",
       "------------------------------------------------------------------------------\n",
       "Intercept      4.0542      4.673      0.868      0.387      -5.203      13.311\n",
       "MT1            0.3530      0.147      2.396      0.018       0.061       0.645\n",
       "MT2            0.6835      0.129      5.297      0.000       0.428       0.939\n",
       "==============================================================================\n",
       "Omnibus:                       21.402   Durbin-Watson:                   1.831\n",
       "Prob(Omnibus):                  0.000   Jarque-Bera (JB):               26.440\n",
       "Skew:                          -1.058   Prob(JB):                     1.81e-06\n",
       "Kurtosis:                       3.972   Cond. No.                         408.\n",
       "==============================================================================\n",
       "\n",
       "Warnings:\n",
       "[1] Standard Errors assume that the covariance matrix of the errors is correctly specified.\n",
       "\"\"\""
      ]
     },
     "execution_count": 32,
     "metadata": {},
     "output_type": "execute_result"
    }
   ],
   "source": [
    "# Backward Elimination (BE) - with correct variables in output\n",
    "slstay = .10 # threshold for staying in the model\n",
    "X_BE = X_new\n",
    "var_list = list(grades.columns[:-1])\n",
    "pvals_sm = mlr.pvalues\n",
    "var_list_BE = var_list\n",
    "\n",
    "while pvals_sm[1:][np.argmax(pvals_sm[1:])] > slstay: # don't want to eliminate the intercept\n",
    "    \n",
    "    # delete entire column corresponding to least significant predictor\n",
    "    X_BE_temp = np.delete(X_BE[:,1:], np.argmax(pvals_sm[1:]), axis=1) \n",
    "    print(np.argmax(pvals_sm[1:])) # print index to be deleted\n",
    "    print(var_list_BE[np.argmax(pvals_sm[1:])]) # print predictor to be deleted\n",
    "    del var_list_BE[np.argmax(pvals_sm[1:])] # delete corresponding variable from variable list\n",
    "    \n",
    "    \n",
    "    # reattach column of 1s for design matrix\n",
    "    X_BE = np.hstack((np.ones((X_new.shape[0],1)), X_BE_temp))\n",
    "    \n",
    "    # re-fit new regression model\n",
    "    mlr_BE = sm.OLS(y_new, X_BE).fit()\n",
    "    \n",
    "    # extract new p-values\n",
    "    pvals_sm = mlr_BE.pvalues\n",
    "\n",
    "print(var_list_BE) # predictors left after Backward Elimination   \n",
    "var_list_BE = ['Intercept'] + var_list_BE # insert the intercept variable name at beginning of variable list\n",
    "mlr_BE.summary(xname=var_list_BE) # matches SAS"
   ]
  },
  {
   "cell_type": "code",
   "execution_count": 33,
   "metadata": {
    "collapsed": true
   },
   "outputs": [],
   "source": [
    "# Better yet, let's create a Backward Elimination function for future use.\n",
    "\n",
    "### Notes: \n",
    "### - X_BE is entire design matrix (including column of ones) - type: numpy matrix\n",
    "### - var_list_BE is list of predictor variables (NOT including intercept) - type: list\n",
    "### - pvals_sm is list of all p-values (including intercept as 1st) - type: list\n",
    "\n",
    "def backward_elimination(X_BE, var_list_BE, pvals_sm, slstay=.1):\n",
    "    \n",
    "    while pvals_sm[1:][np.argmax(pvals_sm[1:])] > slstay: # don't want to eliminate the intercept\n",
    "    \n",
    "        # delete entire column corresponding to least significant predictor\n",
    "        X_BE_temp = np.delete(X_BE[:,1:], np.argmax(pvals_sm[1:]), axis=1) \n",
    "        print(np.argmax(pvals_sm[1:])) # print index to be deleted\n",
    "        print(var_list_BE[np.argmax(pvals_sm[1:])]) # print predictor to be deleted\n",
    "        del var_list_BE[np.argmax(pvals_sm[1:])] # delete corresponding variable from variable list\n",
    "    \n",
    "        # reattach column of 1s for design matrix\n",
    "        X_BE = np.hstack((np.ones((X_new.shape[0],1)), X_BE_temp))\n",
    "    \n",
    "        # re-fit new regression model\n",
    "        mlr_BE = sm.OLS(y_new, X_BE).fit()\n",
    "    \n",
    "        # extract new p-values\n",
    "        pvals_sm = mlr_BE.pvalues\n",
    "\n",
    "    print('Predictors Left: ', var_list_BE) # predictors left after Backward Elimination   \n",
    "    var_list_BE = ['Intercept'] + var_list_BE # insert the intercept variable name at beginning of variable list\n",
    "    print(mlr_BE.summary(xname=var_list_BE)) # matches SAS"
   ]
  },
  {
   "cell_type": "code",
   "execution_count": 34,
   "metadata": {},
   "outputs": [
    {
     "name": "stdout",
     "output_type": "stream",
     "text": [
      "4\n",
      "HW4\n",
      "4\n",
      "HW5\n",
      "2\n",
      "HW3\n",
      "3\n",
      "HW6\n",
      "1\n",
      "HW2\n",
      "3\n",
      "HW7\n",
      "0\n",
      "HW1\n",
      "Predictors Left:  ['MT1', 'MT2']\n",
      "                            OLS Regression Results                            \n",
      "==============================================================================\n",
      "Dep. Variable:                      y   R-squared:                       0.375\n",
      "Model:                            OLS   Adj. R-squared:                  0.364\n",
      "Method:                 Least Squares   F-statistic:                     34.14\n",
      "Date:                Sat, 26 Jan 2019   Prob (F-statistic):           2.40e-12\n",
      "Time:                        01:29:06   Log-Likelihood:                -377.24\n",
      "No. Observations:                 117   AIC:                             760.5\n",
      "Df Residuals:                     114   BIC:                             768.8\n",
      "Df Model:                           2                                         \n",
      "Covariance Type:            nonrobust                                         \n",
      "==============================================================================\n",
      "                 coef    std err          t      P>|t|      [0.025      0.975]\n",
      "------------------------------------------------------------------------------\n",
      "Intercept      4.0542      4.673      0.868      0.387      -5.203      13.311\n",
      "MT1            0.3530      0.147      2.396      0.018       0.061       0.645\n",
      "MT2            0.6835      0.129      5.297      0.000       0.428       0.939\n",
      "==============================================================================\n",
      "Omnibus:                       21.402   Durbin-Watson:                   1.831\n",
      "Prob(Omnibus):                  0.000   Jarque-Bera (JB):               26.440\n",
      "Skew:                          -1.058   Prob(JB):                     1.81e-06\n",
      "Kurtosis:                       3.972   Cond. No.                         408.\n",
      "==============================================================================\n",
      "\n",
      "Warnings:\n",
      "[1] Standard Errors assume that the covariance matrix of the errors is correctly specified.\n"
     ]
    }
   ],
   "source": [
    "# test\n",
    "\n",
    "slstay = .10 \n",
    "X_BE = X_new\n",
    "var_list = list(grades.columns[:-1])\n",
    "pvals_sm = mlr.pvalues\n",
    "var_list_BE = var_list\n",
    "\n",
    "backward_elimination(X_BE=X_BE, var_list_BE=var_list_BE, pvals_sm=pvals_sm, slstay=slstay) # success!"
   ]
  },
  {
   "cell_type": "markdown",
   "metadata": {},
   "source": [
    "## Sci-kit Learn (Sklearn)"
   ]
  },
  {
   "cell_type": "code",
   "execution_count": 35,
   "metadata": {
    "collapsed": true
   },
   "outputs": [],
   "source": [
    "from sklearn.linear_model import LinearRegression"
   ]
  },
  {
   "cell_type": "code",
   "execution_count": 36,
   "metadata": {
    "collapsed": true
   },
   "outputs": [],
   "source": [
    "mlr_sklearn = LinearRegression() # create a linear regression instance"
   ]
  },
  {
   "cell_type": "code",
   "execution_count": 37,
   "metadata": {},
   "outputs": [
    {
     "data": {
      "text/plain": [
       "LinearRegression(copy_X=True, fit_intercept=True, n_jobs=1, normalize=False)"
      ]
     },
     "execution_count": 37,
     "metadata": {},
     "output_type": "execute_result"
    }
   ],
   "source": [
    "mlr_sklearn.fit(X_df, y_df)"
   ]
  },
  {
   "cell_type": "code",
   "execution_count": 38,
   "metadata": {},
   "outputs": [
    {
     "name": "stdout",
     "output_type": "stream",
     "text": [
      "18.8213096018\n",
      "[-0.61258545  0.45899665  0.0633583   0.31844575 -0.24305647 -0.37194968\n",
      "  0.20270489  0.62366102 -0.06497343]\n",
      "[[ 18.8213096   -0.61258545   0.45899665   0.0633583    0.31844575\n",
      "   -0.24305647  -0.37194968   0.20270489   0.62366102  -0.06497343]]\n"
     ]
    }
   ],
   "source": [
    "# Extract estimates for coefficients \n",
    "print(mlr_sklearn.intercept_)\n",
    "print(mlr_sklearn.coef_)\n",
    "print(b.T) # check"
   ]
  },
  {
   "cell_type": "code",
   "execution_count": 39,
   "metadata": {},
   "outputs": [
    {
     "name": "stdout",
     "output_type": "stream",
     "text": [
      "0.356861643233\n"
     ]
    }
   ],
   "source": [
    "# Find R^2 of our model\n",
    "print(mlr_sklearn.score(X_df, y_df))"
   ]
  },
  {
   "cell_type": "code",
   "execution_count": 40,
   "metadata": {},
   "outputs": [
    {
     "name": "stdout",
     "output_type": "stream",
     "text": [
      "Intercept:  [ 9.94719582]\n",
      "Estimated Slopes:  [[ 0.         -0.42192619  0.14680696  0.09836213  0.3538559   0.02523333\n",
      "   0.07564809  0.13917565  0.71293909 -0.40875589]]\n",
      "Numpy Estimated Coefficients:  [[ 9.94719582 -0.42192619  0.14680696  0.09836213  0.3538559   0.02523333\n",
      "   0.07564809  0.13917565  0.71293909 -0.40875589]]\n",
      "R^2:  0.396695850387\n"
     ]
    }
   ],
   "source": [
    "# what if we delete that influential observation just as we did with Numpy?\n",
    "mlr2_sklearn = LinearRegression()\n",
    "mlr2_sklearn.fit(X_new, y_new)\n",
    "print('Intercept: ', mlr2_sklearn.intercept_)\n",
    "print('Estimated Slopes: ', mlr2_sklearn.coef_)\n",
    "print('Numpy Estimated Coefficients: ', b_new.T) # check - success\n",
    "print('R^2: ', mlr2_sklearn.score(X_new, y_new)) # check - success"
   ]
  },
  {
   "cell_type": "markdown",
   "metadata": {},
   "source": [
    "- As we can see, we can feed either data frames or numpy arrays into this sklearn model.\n",
    "- Another thing to note is that we fed into this sklearn version of linear regression the design matrix with the column of 1s already in it. You see that it treats this column of 1s as a variable, estimates its slope as 0, and finds its own intercept which turns out to be the same as if we didn't feed sklearn the column of 1s. "
   ]
  },
  {
   "cell_type": "code",
   "execution_count": 41,
   "metadata": {},
   "outputs": [
    {
     "name": "stdout",
     "output_type": "stream",
     "text": [
      "Intercept:  [ 9.94719582]\n",
      "Estimated Slopes:  [[-0.42192619  0.14680696  0.09836213  0.3538559   0.02523333  0.07564809\n",
      "   0.13917565  0.71293909 -0.40875589]]\n",
      "R^2:  0.396695850387\n"
     ]
    }
   ],
   "source": [
    "# Let's demonstrate the above note\n",
    "X_new_no1s = X_new[:,1:]\n",
    "mlr2_alt_sklearn = LinearRegression()\n",
    "mlr2_alt_sklearn.fit(X_new_no1s, y_new)\n",
    "print('Intercept: ', mlr2_alt_sklearn.intercept_)\n",
    "print('Estimated Slopes: ', mlr2_alt_sklearn.coef_)\n",
    "print('R^2: ', mlr2_alt_sklearn.score(X_new_no1s, y_new))"
   ]
  },
  {
   "cell_type": "markdown",
   "metadata": {},
   "source": [
    "### Let's use this framework to do some predictive modeling. \n",
    "- In machine learning, we generally split the data into a training set and testing set. We feed the training data into our model to calibrate our model and get the estimated coefficients for the slopes and intercept. Once we have our model, we want to see how it performs on data, our model hasn't seen before. The purpose of this, is to assess how well our model generalizes to new data. \n",
    "- First, we will generate new data for 20 students not in our original dataset. \n",
    "- Second, we will test our model we trained on our original data on these new observations. "
   ]
  },
  {
   "cell_type": "code",
   "execution_count": 42,
   "metadata": {},
   "outputs": [],
   "source": [
    "# let's re-train our model but now we will remove the bottom 15 data points of the data and use that as a test set.\n",
    "\n",
    "X_train = X_new[:-20, :]\n",
    "y_train = y_new[:-20, :]\n",
    "\n",
    "X_test = X_new[-20:, :]\n",
    "y_test = y_new[-20:, :]"
   ]
  },
  {
   "cell_type": "code",
   "execution_count": 43,
   "metadata": {},
   "outputs": [
    {
     "data": {
      "text/plain": [
       "0.412296244066155"
      ]
     },
     "execution_count": 43,
     "metadata": {},
     "output_type": "execute_result"
    }
   ],
   "source": [
    "mlr_ML = LinearRegression()\n",
    "mlr_ML.fit(X_train, y_train)\n",
    "\n",
    "mlr_ML.score(X_train, y_train) # R^2 for the training model"
   ]
  },
  {
   "cell_type": "code",
   "execution_count": 44,
   "metadata": {},
   "outputs": [
    {
     "data": {
      "text/plain": [
       "0.22129004667971397"
      ]
     },
     "execution_count": 44,
     "metadata": {},
     "output_type": "execute_result"
    }
   ],
   "source": [
    "mlr_ML.score(X_test, y_test) # not a great R^2"
   ]
  },
  {
   "cell_type": "code",
   "execution_count": 45,
   "metadata": {},
   "outputs": [
    {
     "name": "stdout",
     "output_type": "stream",
     "text": [
      "MSE:  41.7602680217\n",
      "RMSE:  6.46221850619\n"
     ]
    }
   ],
   "source": [
    "from sklearn.metrics import mean_squared_error\n",
    "\n",
    "y_predict = mlr_ML.predict(X_test)\n",
    "mlr_ML_mse = mean_squared_error(y_predict, y_test)\n",
    "print('MSE: ', mlr_ML_mse)\n",
    "print('RMSE: ', np.sqrt(mlr_ML_mse))"
   ]
  },
  {
   "cell_type": "markdown",
   "metadata": {},
   "source": [
    "- Note that this MSE (and therefore RMSE) is slightly different from how we normally compute it in OLS regression. \n",
    "$$MSE(y, \\hat{y}) = \\frac{1}{n} \\sum_{i=1}^{n} (y_i - \\hat{y}_i)^2$$\n",
    "- Here, we don't use $n-k-1$ in the denominator (accounting for model complexity). I'm not 100% sure why, other than maybe because in machine learning, you tend to work with very large datasets, so adjusting the denominator by the number of estimated parameters won't in general make much of a difference (at least if n is much larger than k). Also another reason could be that this MSE can be used to compare several different kinds of models, not just OLS, so perhaps the ML practitioners wanted some kind of uniformity among error measures. "
   ]
  },
  {
   "cell_type": "markdown",
   "metadata": {},
   "source": [
    "- You'll notice, we haven't used any qualitative variables in this homework assignment. Dummy variables can be easily generated for these variables using the pd.get_dummies() function in pandas. It has the functionality to creat dummies with both k-1 levels and k levels. "
   ]
  }
 ],
 "metadata": {
  "kernelspec": {
   "display_name": "Python 3",
   "language": "python",
   "name": "python3"
  },
  "language_info": {
   "codemirror_mode": {
    "name": "ipython",
    "version": 3
   },
   "file_extension": ".py",
   "mimetype": "text/x-python",
   "name": "python",
   "nbconvert_exporter": "python",
   "pygments_lexer": "ipython3",
   "version": "3.5.3"
  }
 },
 "nbformat": 4,
 "nbformat_minor": 2
}
